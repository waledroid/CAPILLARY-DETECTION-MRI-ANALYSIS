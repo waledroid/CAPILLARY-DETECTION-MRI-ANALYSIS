{
  "cells": [
    {
      "attachments": {},
      "cell_type": "markdown",
      "source": [
        "---\n",
        "Atanda Abdullahi Adewale\n",
        "This code is not fully functional as stabilized video is not generated yet  \n",
        "---\n",
        "\n",
        "The Program stabilizes a video by applying affine transformation to each frame based on the motion information between the current frame and the previous frame, and then warping the current frame using the estimated affine transformation.\n",
        "\n",
        "\n",
        "- affine_motionfunction returns the estimated affine transformation matrix.\n",
        "\n",
        "- compute_flow_fields() returns flow fields represent the pixel displacements in the horizontal and vertical directions.\n",
        "\n",
        "- image_warp() function returns the warped image.\n",
        "\n",
        "- The function write_video() writes the list of warped images to a video of a give FPS.\n",
        "\n",
        "- The function stabilize_frames() computes the flow fields for each pixel between the previous and current frames using the affine   motion estimation and motion compensation. The accumulated flow fields are updated using the new flow fields. The function returns the warped current frame, the updated previous grayscale image, and the updated accumulated flow fields."
      ],
      "metadata": {}
    },
    {
      "cell_type": "code",
      "source": [
        "import cv2\n",
        "import os\n",
        "import numpy as np\n",
        "from scipy import ndimage\n",
        "import matplotlib.pyplot as plt"
      ],
      "outputs": [],
      "execution_count": 1,
      "metadata": {}
    },
    {
      "cell_type": "code",
      "source": [
        "def affine_motion(I1, I2, height, width):\n",
        "    A = np.zeros((height * width * 2, 6))\n",
        "    b = np.zeros((height * width * 2, 1))\n",
        "\n",
        "    Gx = np.array([[-1, 1], [-1, 1]])\n",
        "    Gy = np.array([[-1, -1], [1, 1]])\n",
        "    Gtk = np.array([[-1, -1], [-1, -1]])\n",
        "    Gtk1 = np.array([[1, 1], [1, 1]])\n",
        "\n",
        "    Ix = ndimage.convolve(I1, Gx) + ndimage.convolve(I2, Gx)\n",
        "    Iy = ndimage.convolve(I1, Gy) + ndimage.convolve(I2, Gy)\n",
        "    It = ndimage.convolve(I1, Gtk) + ndimage.convolve(I2, Gtk1)\n",
        "\n",
        "    count = 0\n",
        "    for i in range(height):\n",
        "        for j in range(width):\n",
        "            A[count] = [j, i, 1, 0, 0, 0]\n",
        "            A[height * width + count] = [0, 0, 0, j, i, 1]\n",
        "            b[count] = -It[i, j]\n",
        "            count += 1\n",
        "\n",
        "    ATA = np.dot(A.T, A)\n",
        "    ATA_inv = np.linalg.inv(ATA)\n",
        "    ATb = np.dot(A.T, b)\n",
        "    affine_params = np.dot(ATA_inv, ATb)\n",
        "\n",
        "    return affine_params"
      ],
      "outputs": [],
      "execution_count": 2,
      "metadata": {}
    },
    {
      "cell_type": "code",
      "source": [
        "def compute_flow_fields(theta, width, height):\n",
        "    x, y = np.meshgrid(np.arange(width), np.arange(height))\n",
        "    x = x.flatten()\n",
        "    y = y.flatten()\n",
        "\n",
        "    M = np.array([[theta[0], theta[1], theta[2]], [theta[3], theta[4], theta[5]]])\n",
        "    v = np.dot(np.vstack((x, y, np.ones_like(x))).T, M.T)\n",
        "    flow_x = v.T[0].reshape((height, width))\n",
        "    flow_y = v.T[1].reshape((height, width))\n",
        "\n",
        "    return flow_x, flow_y"
      ],
      "outputs": [],
      "execution_count": 3,
      "metadata": {}
    },
    {
      "cell_type": "code",
      "source": [
        "def image_warp(I, U, V):\n",
        "    # create pixel coordinates\n",
        "    x = np.linspace(0, I.shape[1]-1, I.shape[1])\n",
        "    y = np.linspace(0, I.shape[0]-1, I.shape[0])\n",
        "    xi, yi = np.meshgrid(x, y)\n",
        "    \n",
        "    # warping image intensities to the new locations\n",
        "    warped_img = cv2.remap(I, (xi+U).astype(np.float32), (yi+V).astype(np.float32), interpolation=cv2.INTER_LINEAR)\n",
        "    return warped_img"
      ],
      "outputs": [],
      "execution_count": 4,
      "metadata": {}
    },
    {
      "cell_type": "code",
      "source": [
        "def write_video(warped_list, video_name, FPS=15):\n",
        "    img = warped_list[0]\n",
        "    # create a video with the provided FPS\n",
        "    video_writer_warp = cv2.VideoWriter('stabilized_video_' + video_name + '.mp4', cv2.VideoWriter_fourcc(*'MP4V'), FPS, (img.shape[1], img.shape[0]))\n",
        "    for i in range(len(warped_list)):\n",
        "        video_writer_warp.write(cv2.cvtColor(warped_list[i], cv2.COLOR_GRAY2BGR))\n",
        "    video_writer_warp.release()"
      ],
      "outputs": [],
      "execution_count": 5,
      "metadata": {}
    },
    {
      "cell_type": "code",
      "source": [
        "# function to stabilize a pair of frames\n",
        "def stabilize_frames(prev_frame, curr_frame, prev_gray, height, width, U0, V0):\n",
        "    # Convert current frame to grayscale\n",
        "    curr_gray = cv2.cvtColor(curr_frame, cv2.COLOR_BGR2GRAY)\n",
        "    \n",
        "    # Compute flow fields for all pixels using previous flow fields and affine motion parameters\n",
        "    flow_x, flow_y = compute_flow_fields(theta, curr_gray.shape[1], curr_gray.shape[0], U0, V0)\n",
        "    \n",
        "    # Warp previous frame using flow fields\n",
        "    prev_warped = image_warp(prev_gray, flow_x, flow_y)\n",
        "    \n",
        "    # Compute affine motion parameters between warped previous frame and current frame\n",
        "    theta = affine_motion(prev_warped, curr_gray, height, width)\n",
        "    \n",
        "    # Compute flow fields for all pixels using affine motion parameters\n",
        "    flow_x, flow_y = compute_flow_fields(theta, curr_gray.shape[1], curr_gray.shape[0])\n",
        "    \n",
        "    # Warp current frame using flow fields\n",
        "    curr_warped = image_warp(curr_frame, flow_x, flow_y)\n",
        "    \n",
        "    # Update accumulated flow fields\n",
        "    U0 += flow_x\n",
        "    V0 += flow_y\n",
        "    \n",
        "    # Set current frame as previous frame for next iteration\n",
        "    prev_gray = curr_gray.copy()\n",
        "    \n",
        "    return curr_warped, prev_gray, U0, V0\n"
      ],
      "outputs": [],
      "execution_count": 6,
      "metadata": {}
    },
    {
      "cell_type": "code",
      "source": [
        "# Define paths to the input images and output folder\n",
        "input_path = 'taxi/'\n",
        "output_path = 'output/'\n",
        "\n",
        "# Create output folder if it doesn't exist\n",
        "if not os.path.exists(output_path):\n",
        "    os.makedirs(output_path)\n",
        "\n",
        "# Load the first image and convert to grayscale\n",
        "prev_frame = cv2.imread(os.path.join(input_path, '11.jpg'))\n",
        "prev_gray = cv2.cvtColor(prev_frame, cv2.COLOR_BGR2GRAY)\n",
        "\n",
        "# Get the height and width of the images\n",
        "height, width = prev_gray.shape\n",
        "\n",
        "# Initialize accumulated flow fields\n",
        "U0 = np.zeros((height, width))\n",
        "V0 = np.zeros((height, width))\n",
        "\n",
        "# Initialize list of stabilized frames\n",
        "stabilized_frames = [prev_gray]"
      ],
      "outputs": [],
      "execution_count": 7,
      "metadata": {}
    },
    {
      "cell_type": "code",
      "source": [
        "# Loop over all subsequent images in the sequence\n",
        "for i in range(12, 42):\n",
        "    # Load current image and convert to grayscale\n",
        "    curr_frame = cv2.imread(os.path.join(input_path, f'{i}.jpg'))\n",
        "    curr_gray = cv2.cvtColor(curr_frame, cv2.COLOR_BGR2GRAY)\n",
        "    \n",
        "    # Compute affine motion parameters between current and previous frame\n",
        "    theta = affine_motion(prev_gray, curr_gray, height, width)\n",
        "\n",
        "    \n",
        "    # Compute flow fields for all pixels using affine motion parameters\n",
        "    flow_x, flow_y = compute_flow_fields(theta, curr_gray.shape[1], curr_gray.shape[0])\n",
        "    \n",
        "    # Accumulate flow fields\n",
        "    U0 += flow_x\n",
        "    V0 += flow_y\n",
        "\n",
        "    # Stabilize current frame\n",
        "    curr_stabilized = image_warp(curr_gray, U0, V0)\n",
        "\n",
        "    # Add stabilized frame to list\n",
        "    stabilized_frames.append(curr_stabilized)\n",
        "\n",
        "    # Set current frame as previous frame for next iteration\n",
        "    prev_gray = curr_gray.copy()\n",
        "\n",
        "    # Generate and save stabilized video\n",
        "    write_video(stabilized_frames, 'taxi')\n",
        "    \n",
        "print('Stabilization completed!')"
      ],
      "outputs": [
        {
          "output_type": "stream",
          "name": "stdout",
          "text": "Stabilization completed!\n"
        }
      ],
      "execution_count": 8,
      "metadata": {}
    },
    {
      "attachments": {},
      "cell_type": "markdown",
      "source": [],
      "metadata": {}
    }
  ],
  "metadata": {
    "kernelspec": {
      "display_name": "Python 3",
      "language": "python",
      "name": "python3"
    },
    "language_info": {
      "codemirror_mode": {
        "name": "ipython",
        "version": 3
      },
      "file_extension": ".py",
      "mimetype": "text/x-python",
      "name": "python",
      "nbconvert_exporter": "python",
      "pygments_lexer": "ipython3",
      "version": "3.10.10"
    },
    "orig_nbformat": 4,
    "nteract": {
      "version": "nteract-front-end@1.0.0"
    }
  },
  "nbformat": 4,
  "nbformat_minor": 2
}